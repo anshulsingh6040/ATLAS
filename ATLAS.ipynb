import os
from pyttsx3 import speak
from datetime import datetime
name = input('Enter your name :')

if ((datetime.today().hour >= 5) and (datetime.today().hour < 12)):
    speak('Good morning'+' '+name+'. This is how the weather looks like for the day.')
    os.system('start bingweather:')
elif ((datetime.today().hour >= 12) and (datetime.today().hour < 18)):
    speak('good afternoon'+' '+name)
elif ((datetime.today().hour >= 18)):
    speak('good evening'+' '+name)
speak('How can i assist you?')


while True:
    x = input()
    if (('time' in x) or ('clock' in x)):
        speak(datetime.today().strftime('%H hours and %M minutes'))
    elif (('name' in x) or ('who am i' in x)):
        speak('You are '+name)
    elif ('date') in x:
        speak(datetime.today().strftime('Today is %B %dth %Y'))
    elif (('Day' in x) or ('weekday' in x)):
        speak(datetime.today().strftime('Today is %A'))
    elif (('year' in x) or ('Year' in x) or ('Yr' in x) or ('yr' in x)):
        speak(datetime.today().strftime('The year is %Y'))
    elif ('month') in x:
        speak(datetime.today().strftime('The current month is %B'))
    elif (('notepad' in x) or ('editor' in x) or ('text' in x) or ('txt' in x) or ('note' in x) or ('Note' in x)):
        speak('Do you want to name your file? Press Enter if No.')
        file = input('Enter file name: ')
        os.system('notepad'+' '+file)
    elif (('chrome' in x) or ('browser' in x) or ('google' in x) or ('surfing' in x)):
        speak('Which website do you want me to search??')
        website = input('Enter wesbite: ')
        os.system('chrome'+' '+website+'.com')
    elif (('videos' in x) or ('mp4' in x) or ('youtube' in x)):
        speak('Here is what i have found.')
        os.system('start chrome youtube.com')
    elif (('scrolling' in x) or ('insta' in x) or ('gram' in x) or ('instagram' in x) or ('ig' in x) or ('IG' in x)):
        os.system('start chrome instagram.com')
    elif (('mail' in x) or ('gmail' in x)):
        os.system('start chrome gmail.com')
    elif (('facebook' in x) or ('Facebook' in x) or ('fb' in x) or ('FB' in x)):
        os.system('start chrome facebook.com')
    elif (('whatsapp' in x) or ('Whatsapp' in x) or ('chatting' in x) or ('messages' in x)):
        os.system('chrome web.whatsapp.com')
    elif (('tweet' in x) or ('twitter' in x) or ('Twitter' in x) or ('Tweet' in x)):
        os.system('chrome twitter.com')
    elif (('linkedin' in x) or ('linked' in x) or ('connections' in x)):
        os.system('chrome linkedin.com')
    elif (('photoshop' in x) or ('PS' in x) or ('ps' in x) or ('photo' in x) or ('photo editor') in x or ('editing' in x)):
        os.system('start photoshop')
    elif (('wmplayer' in x) or ('music' in x) or ('player' in x) or ('media' in x) or ('party' in x)):
        os.system('start wmplayer')
    elif (('control panel' in x) or ('control' in x) or ('panel' in x)):
        os.system('start control panel')
    elif (('vlc' in x) or ('VLC' in x) ): 
        os.system('start vlc')
    elif (('3D' in x) or ('3d' in x) or ('builder' in x)):
        os.system('start com.microsoft.builder3d:')
    elif (('paint' in x) or ('Paint' in x) or ('drawing' in x) or ('draw' in x)):
        speak('i never knew you like drawing')
        os.system('start mspaint')
    elif (('pdf' in x) or ('reader' in x) or ('acrobat reader' in x) or ('pdf reader' in x) or ('Pdf' in x) or ('read' in x)):
        os.system('acrord32')
    elif (('cal' in x) or ('calculator' in x) or ('calc' in x) or ('maths' in x) or ('calculations' in x)or ('mathematics' in x)):
        speak('Well, not to show off, but i was really good in mathematics in my high school')
        os.system('calc')
    elif (('msword' in x) or ('word' in x) or ('doc' in x) or ('document' in x)):
        os.system('start winword')
    elif (('msoutlook' in x) or ('Outlook' in x) or ('outlook' in x)):
        os.system('start outlook')
    elif (('ppt' in x) or ('presentation' in x) or ('slides' in x) or ('powerpoint' in x)):
        os.system('start powerpnt')
    elif (('Access' in x) or ('msaccess' in x) or ('access' in x)):
        os.system('start msaccess')
    elif (('excel' in x) or ('datbase' in x) or ('spreadsheet' in x) or ('spreadsheets' in x) or ('msexcel' in x)):
        os.system('start excel')
    elif (('onenote' in x) or ('Onenote' in x) or ('msonenote' in x) or ('Msonenote' in x)):
        os.system('start onenote')
    elif (('msgroove' in x) or ('groove' in x) or ('Msgroove' in x)):
        os.system('start groove')
    elif (('infopath' in x) or ('msinfopath' in x)):
        os.system('start infopath')
    elif (('snip' in x) or ('snippingtool' in x) or ('Snip' in x)):
        os.system('start snippingtool')
    elif (('weather' in x) or ('weather forecast' in x) or ('umbrella' in x) or ('rainy day' in x) or ('sunny' in x)
         or ('stormy' in x) or ('cloudy' in x) or ('wet' in x) or ('cold' in x) or ('dry' in x)
         or ('windy' in x)):
         os.system('start bingweather:')
    elif (('Calendar' in x)):
        os.system('start outlookcal:')
    elif (('wifi' in x) or ('networks' in x)):
         os.system('start ms-availablenetworks:')
    elif (('settings' in x) or ('action center' in x) or ('action centre' in x)):
        os.system('start ms-actioncenter:')
    elif (('webcam' in x) or ('camera' in x)):
        os.system('start microsoft.windows.camera:')
    elif (('gallery' in x) or ('album' in x)):
        os.system('start ms-photos:')
    elif ('store' in x):
        os.system('start ms-windows-store:')
    elif (('stats' in x) or ('IBM' in x) or ('ibm' in x) or ('spps' in x) or ('SPSS' in x)):
        os.system('start stats')
    elif (('directions' in x) or ('where' in x) or ('maps' in x)):
        os.system('start bingmaps:')
    elif ('parental' in x) or ('wpc' in x) or ('WPC' in x):
        os.system('start ms-wpc:')
    elif (('bored' in x) or ('cards' in x) or ('solataire' in x)):
        speak('i guess it is time for some fun.')
        os.system('start xboxliveapp-1297287741:')
    elif (('exit' in x) or ('bye' in x) or ('see ya' in x) or ('toodles' in x) or ('quit' in x) 
          or ('see you' in x)  or ('Quit' in x)  or ('See you' in x) or ('see ya' in x)  or ('Exit' in x)  
          or ('Bye' in x)  or ('Toodles' in x)):
        speak('See you tomorrow'+' '+name)
        if ((datetime.today().hour >= 5) and (datetime.today().hour < 12)):
            speak('Wishing you a good morning and have a optimistic day')
        elif ((datetime.today().hour >= 12) and (datetime.today().hour < 18)):
            speak('Wishing you a good afternoon filled with relaxation.')
        elif ((datetime.today().hour >= 18) and (datetime.today().hour < 22)):
            speak('Wishing you a delightful evening.”')
        elif (datetime.today().hour >= 22):
            speak('Have a Good night, may your dreams be kind.')
        break   
    else:
        speak("i don't understand what are you asking me to do.")
